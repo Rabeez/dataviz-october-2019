{
 "cells": [
  {
   "cell_type": "code",
   "execution_count": 178,
   "metadata": {},
   "outputs": [],
   "source": [
    "import numpy as np\n",
    "import pandas as pd\n",
    "from difflib import get_close_matches\n",
    "from tqdm import tqdm_notebook"
   ]
  },
  {
   "cell_type": "markdown",
   "metadata": {},
   "source": [
    "This is the [original dataset](https://wheresthejump.com/full-movie-list/). There are a bunch of movies which have the same name but were made by different directors in different years. I am removing those entries since I have to join this table with a few others and the other tables do not have the director information. "
   ]
  },
  {
   "cell_type": "code",
   "execution_count": 179,
   "metadata": {},
   "outputs": [
    {
     "name": "stdout",
     "output_type": "stream",
     "text": [
      "(527, 6)\n"
     ]
    },
    {
     "data": {
      "text/html": [
       "<div>\n",
       "<style scoped>\n",
       "    .dataframe tbody tr th:only-of-type {\n",
       "        vertical-align: middle;\n",
       "    }\n",
       "\n",
       "    .dataframe tbody tr th {\n",
       "        vertical-align: top;\n",
       "    }\n",
       "\n",
       "    .dataframe thead th {\n",
       "        text-align: right;\n",
       "    }\n",
       "</style>\n",
       "<table border=\"1\" class=\"dataframe\">\n",
       "  <thead>\n",
       "    <tr style=\"text-align: right;\">\n",
       "      <th></th>\n",
       "      <th>movie_name</th>\n",
       "      <th>director</th>\n",
       "      <th>year</th>\n",
       "      <th>jump_count</th>\n",
       "      <th>jump_scare_rating</th>\n",
       "      <th>imdb</th>\n",
       "    </tr>\n",
       "  </thead>\n",
       "  <tbody>\n",
       "    <tr>\n",
       "      <td>0</td>\n",
       "      <td>10 Cloverfield Lane</td>\n",
       "      <td>Dan Trachtenberg</td>\n",
       "      <td>2016-01-01</td>\n",
       "      <td>8</td>\n",
       "      <td>2.5</td>\n",
       "      <td>7.3</td>\n",
       "    </tr>\n",
       "    <tr>\n",
       "      <td>1</td>\n",
       "      <td>28 Days Later</td>\n",
       "      <td>Danny Boyle</td>\n",
       "      <td>2003-01-01</td>\n",
       "      <td>10</td>\n",
       "      <td>3.0</td>\n",
       "      <td>7.6</td>\n",
       "    </tr>\n",
       "    <tr>\n",
       "      <td>2</td>\n",
       "      <td>28 Weeks Later</td>\n",
       "      <td>Juan Carlos Fresnadillo</td>\n",
       "      <td>2007-01-01</td>\n",
       "      <td>17</td>\n",
       "      <td>3.5</td>\n",
       "      <td>7.0</td>\n",
       "    </tr>\n",
       "    <tr>\n",
       "      <td>3</td>\n",
       "      <td>30 Days of Night</td>\n",
       "      <td>David Slade</td>\n",
       "      <td>2007-01-01</td>\n",
       "      <td>9</td>\n",
       "      <td>2.5</td>\n",
       "      <td>6.6</td>\n",
       "    </tr>\n",
       "    <tr>\n",
       "      <td>4</td>\n",
       "      <td>31</td>\n",
       "      <td>Rob Zombie</td>\n",
       "      <td>2016-01-01</td>\n",
       "      <td>8</td>\n",
       "      <td>2.5</td>\n",
       "      <td>5.8</td>\n",
       "    </tr>\n",
       "  </tbody>\n",
       "</table>\n",
       "</div>"
      ],
      "text/plain": [
       "            movie_name                 director       year  jump_count  \\\n",
       "0  10 Cloverfield Lane         Dan Trachtenberg 2016-01-01           8   \n",
       "1        28 Days Later              Danny Boyle 2003-01-01          10   \n",
       "2       28 Weeks Later  Juan Carlos Fresnadillo 2007-01-01          17   \n",
       "3     30 Days of Night              David Slade 2007-01-01           9   \n",
       "4                   31               Rob Zombie 2016-01-01           8   \n",
       "\n",
       "   jump_scare_rating  imdb  \n",
       "0                2.5   7.3  \n",
       "1                3.0   7.6  \n",
       "2                3.5   7.0  \n",
       "3                2.5   6.6  \n",
       "4                2.5   5.8  "
      ]
     },
     "execution_count": 179,
     "metadata": {},
     "output_type": "execute_result"
    }
   ],
   "source": [
    "df_agg = pd.read_csv('jump_scare_df.csv')\n",
    "df_agg['netflix_us'] = df_agg['netflix_us'] == 'Yes'\n",
    "df_agg['year'] = pd.to_datetime(df_agg['year'].astype('str'), format='%Y')\n",
    "df_agg.drop(['netflix_us','url'], axis=1, inplace=True)\n",
    "df_agg.drop_duplicates('movie_name', keep='last', inplace=True)\n",
    "print(df_agg.shape)\n",
    "df_agg.head()"
   ]
  },
  {
   "cell_type": "code",
   "execution_count": 180,
   "metadata": {},
   "outputs": [
    {
     "name": "stdout",
     "output_type": "stream",
     "text": [
      "(527, 2)\n"
     ]
    },
    {
     "data": {
      "text/html": [
       "<div>\n",
       "<style scoped>\n",
       "    .dataframe tbody tr th:only-of-type {\n",
       "        vertical-align: middle;\n",
       "    }\n",
       "\n",
       "    .dataframe tbody tr th {\n",
       "        vertical-align: top;\n",
       "    }\n",
       "\n",
       "    .dataframe thead th {\n",
       "        text-align: right;\n",
       "    }\n",
       "</style>\n",
       "<table border=\"1\" class=\"dataframe\">\n",
       "  <thead>\n",
       "    <tr style=\"text-align: right;\">\n",
       "      <th></th>\n",
       "      <th>title</th>\n",
       "      <th>runtime</th>\n",
       "    </tr>\n",
       "  </thead>\n",
       "  <tbody>\n",
       "    <tr>\n",
       "      <td>0</td>\n",
       "      <td>10 Cloverfield Lane</td>\n",
       "      <td>103</td>\n",
       "    </tr>\n",
       "    <tr>\n",
       "      <td>1</td>\n",
       "      <td>28 Days Later</td>\n",
       "      <td>113</td>\n",
       "    </tr>\n",
       "    <tr>\n",
       "      <td>2</td>\n",
       "      <td>28 Weeks Later</td>\n",
       "      <td>100</td>\n",
       "    </tr>\n",
       "    <tr>\n",
       "      <td>3</td>\n",
       "      <td>30 Days of Night</td>\n",
       "      <td>113</td>\n",
       "    </tr>\n",
       "    <tr>\n",
       "      <td>4</td>\n",
       "      <td>31</td>\n",
       "      <td>103</td>\n",
       "    </tr>\n",
       "  </tbody>\n",
       "</table>\n",
       "</div>"
      ],
      "text/plain": [
       "                 title runtime\n",
       "0  10 Cloverfield Lane     103\n",
       "1        28 Days Later     113\n",
       "2       28 Weeks Later     100\n",
       "3     30 Days of Night     113\n",
       "4                   31     103"
      ]
     },
     "execution_count": 180,
     "metadata": {},
     "output_type": "execute_result"
    }
   ],
   "source": [
    "df_runtime = pd.read_json('movieListExtended.json').T.reset_index(drop=True)\n",
    "df_runtime.drop(['link','synopsis','mpaaRating','rottenTomatoesRating','tags','srt'], axis=1, inplace=True)\n",
    "df_runtime.drop_duplicates('title', keep='last', inplace=True)\n",
    "print(df_runtime.shape)\n",
    "df_runtime.head()"
   ]
  },
  {
   "cell_type": "code",
   "execution_count": 181,
   "metadata": {},
   "outputs": [
    {
     "name": "stdout",
     "output_type": "stream",
     "text": [
      "(526, 7)\n"
     ]
    },
    {
     "data": {
      "text/html": [
       "<div>\n",
       "<style scoped>\n",
       "    .dataframe tbody tr th:only-of-type {\n",
       "        vertical-align: middle;\n",
       "    }\n",
       "\n",
       "    .dataframe tbody tr th {\n",
       "        vertical-align: top;\n",
       "    }\n",
       "\n",
       "    .dataframe thead th {\n",
       "        text-align: right;\n",
       "    }\n",
       "</style>\n",
       "<table border=\"1\" class=\"dataframe\">\n",
       "  <thead>\n",
       "    <tr style=\"text-align: right;\">\n",
       "      <th></th>\n",
       "      <th>movie_name</th>\n",
       "      <th>director</th>\n",
       "      <th>year</th>\n",
       "      <th>jump_count</th>\n",
       "      <th>jump_scare_rating</th>\n",
       "      <th>imdb</th>\n",
       "      <th>runtime</th>\n",
       "    </tr>\n",
       "  </thead>\n",
       "  <tbody>\n",
       "    <tr>\n",
       "      <td>0</td>\n",
       "      <td>10 Cloverfield Lane</td>\n",
       "      <td>Dan Trachtenberg</td>\n",
       "      <td>2016-01-01</td>\n",
       "      <td>8</td>\n",
       "      <td>2.5</td>\n",
       "      <td>7.3</td>\n",
       "      <td>103</td>\n",
       "    </tr>\n",
       "    <tr>\n",
       "      <td>1</td>\n",
       "      <td>28 Days Later</td>\n",
       "      <td>Danny Boyle</td>\n",
       "      <td>2003-01-01</td>\n",
       "      <td>10</td>\n",
       "      <td>3.0</td>\n",
       "      <td>7.6</td>\n",
       "      <td>113</td>\n",
       "    </tr>\n",
       "    <tr>\n",
       "      <td>2</td>\n",
       "      <td>28 Weeks Later</td>\n",
       "      <td>Juan Carlos Fresnadillo</td>\n",
       "      <td>2007-01-01</td>\n",
       "      <td>17</td>\n",
       "      <td>3.5</td>\n",
       "      <td>7.0</td>\n",
       "      <td>100</td>\n",
       "    </tr>\n",
       "    <tr>\n",
       "      <td>3</td>\n",
       "      <td>30 Days of Night</td>\n",
       "      <td>David Slade</td>\n",
       "      <td>2007-01-01</td>\n",
       "      <td>9</td>\n",
       "      <td>2.5</td>\n",
       "      <td>6.6</td>\n",
       "      <td>113</td>\n",
       "    </tr>\n",
       "    <tr>\n",
       "      <td>4</td>\n",
       "      <td>31</td>\n",
       "      <td>Rob Zombie</td>\n",
       "      <td>2016-01-01</td>\n",
       "      <td>8</td>\n",
       "      <td>2.5</td>\n",
       "      <td>5.8</td>\n",
       "      <td>103</td>\n",
       "    </tr>\n",
       "  </tbody>\n",
       "</table>\n",
       "</div>"
      ],
      "text/plain": [
       "            movie_name                 director       year  jump_count  \\\n",
       "0  10 Cloverfield Lane         Dan Trachtenberg 2016-01-01           8   \n",
       "1        28 Days Later              Danny Boyle 2003-01-01          10   \n",
       "2       28 Weeks Later  Juan Carlos Fresnadillo 2007-01-01          17   \n",
       "3     30 Days of Night              David Slade 2007-01-01           9   \n",
       "4                   31               Rob Zombie 2016-01-01           8   \n",
       "\n",
       "   jump_scare_rating  imdb runtime  \n",
       "0                2.5   7.3     103  \n",
       "1                3.0   7.6     113  \n",
       "2                3.5   7.0     100  \n",
       "3                2.5   6.6     113  \n",
       "4                2.5   5.8     103  "
      ]
     },
     "execution_count": 181,
     "metadata": {},
     "output_type": "execute_result"
    }
   ],
   "source": [
    "df_agg = pd.merge(df_agg, df_runtime, left_on='movie_name', right_on='title', how='inner').drop('title', axis=1)\n",
    "print(df_agg.shape)\n",
    "df_agg.head()"
   ]
  },
  {
   "cell_type": "markdown",
   "metadata": {},
   "source": [
    "Next I get a dataset of timestamps of all jumpscares in the movies. It is in a non-tabular JSON format so I use an [online convertor](https://codebeautify.org/jsonviewer) to change it into a long-form table and carry out the rest of the cleaning in pandas."
   ]
  },
  {
   "cell_type": "code",
   "execution_count": 182,
   "metadata": {},
   "outputs": [
    {
     "name": "stdout",
     "output_type": "stream",
     "text": [
      "(9351, 2)\n"
     ]
    },
    {
     "data": {
      "text/html": [
       "<div>\n",
       "<style scoped>\n",
       "    .dataframe tbody tr th:only-of-type {\n",
       "        vertical-align: middle;\n",
       "    }\n",
       "\n",
       "    .dataframe tbody tr th {\n",
       "        vertical-align: top;\n",
       "    }\n",
       "\n",
       "    .dataframe thead th {\n",
       "        text-align: right;\n",
       "    }\n",
       "</style>\n",
       "<table border=\"1\" class=\"dataframe\">\n",
       "  <thead>\n",
       "    <tr style=\"text-align: right;\">\n",
       "      <th></th>\n",
       "      <th>A</th>\n",
       "      <th>B</th>\n",
       "    </tr>\n",
       "  </thead>\n",
       "  <tbody>\n",
       "    <tr>\n",
       "      <td>0</td>\n",
       "      <td>10-cloverfield-lane-2016.srt.0.ts</td>\n",
       "      <td>00:05:13.000</td>\n",
       "    </tr>\n",
       "    <tr>\n",
       "      <td>1</td>\n",
       "      <td>10-cloverfield-lane-2016.srt.0.type</td>\n",
       "      <td>major</td>\n",
       "    </tr>\n",
       "    <tr>\n",
       "      <td>2</td>\n",
       "      <td>10-cloverfield-lane-2016.srt.1.ts</td>\n",
       "      <td>00:19:58.000</td>\n",
       "    </tr>\n",
       "    <tr>\n",
       "      <td>3</td>\n",
       "      <td>10-cloverfield-lane-2016.srt.1.type</td>\n",
       "      <td>minor</td>\n",
       "    </tr>\n",
       "    <tr>\n",
       "      <td>4</td>\n",
       "      <td>10-cloverfield-lane-2016.srt.2.ts</td>\n",
       "      <td>00:38:15.000</td>\n",
       "    </tr>\n",
       "  </tbody>\n",
       "</table>\n",
       "</div>"
      ],
      "text/plain": [
       "                                     A             B\n",
       "0    10-cloverfield-lane-2016.srt.0.ts  00:05:13.000\n",
       "1  10-cloverfield-lane-2016.srt.0.type         major\n",
       "2    10-cloverfield-lane-2016.srt.1.ts  00:19:58.000\n",
       "3  10-cloverfield-lane-2016.srt.1.type         minor\n",
       "4    10-cloverfield-lane-2016.srt.2.ts  00:38:15.000"
      ]
     },
     "execution_count": 182,
     "metadata": {},
     "output_type": "execute_result"
    }
   ],
   "source": [
    "df = pd.read_csv('scare_timestamps.csv', header=None).T\n",
    "df.columns = ['A', 'B']\n",
    "print(df.shape)\n",
    "df.head()"
   ]
  },
  {
   "cell_type": "code",
   "execution_count": 183,
   "metadata": {},
   "outputs": [
    {
     "data": {
      "text/html": [
       "<div>\n",
       "<style scoped>\n",
       "    .dataframe tbody tr th:only-of-type {\n",
       "        vertical-align: middle;\n",
       "    }\n",
       "\n",
       "    .dataframe tbody tr th {\n",
       "        vertical-align: top;\n",
       "    }\n",
       "\n",
       "    .dataframe thead th {\n",
       "        text-align: right;\n",
       "    }\n",
       "</style>\n",
       "<table border=\"1\" class=\"dataframe\">\n",
       "  <thead>\n",
       "    <tr style=\"text-align: right;\">\n",
       "      <th></th>\n",
       "      <th>Name</th>\n",
       "      <th>dummy</th>\n",
       "      <th>scare_num</th>\n",
       "      <th>var</th>\n",
       "    </tr>\n",
       "  </thead>\n",
       "  <tbody>\n",
       "    <tr>\n",
       "      <td>0</td>\n",
       "      <td>10-cloverfield-lane-2016</td>\n",
       "      <td>srt</td>\n",
       "      <td>0</td>\n",
       "      <td>ts</td>\n",
       "    </tr>\n",
       "    <tr>\n",
       "      <td>1</td>\n",
       "      <td>10-cloverfield-lane-2016</td>\n",
       "      <td>srt</td>\n",
       "      <td>0</td>\n",
       "      <td>type</td>\n",
       "    </tr>\n",
       "    <tr>\n",
       "      <td>2</td>\n",
       "      <td>10-cloverfield-lane-2016</td>\n",
       "      <td>srt</td>\n",
       "      <td>1</td>\n",
       "      <td>ts</td>\n",
       "    </tr>\n",
       "    <tr>\n",
       "      <td>3</td>\n",
       "      <td>10-cloverfield-lane-2016</td>\n",
       "      <td>srt</td>\n",
       "      <td>1</td>\n",
       "      <td>type</td>\n",
       "    </tr>\n",
       "    <tr>\n",
       "      <td>4</td>\n",
       "      <td>10-cloverfield-lane-2016</td>\n",
       "      <td>srt</td>\n",
       "      <td>2</td>\n",
       "      <td>ts</td>\n",
       "    </tr>\n",
       "  </tbody>\n",
       "</table>\n",
       "</div>"
      ],
      "text/plain": [
       "                       Name dummy scare_num   var\n",
       "0  10-cloverfield-lane-2016   srt         0    ts\n",
       "1  10-cloverfield-lane-2016   srt         0  type\n",
       "2  10-cloverfield-lane-2016   srt         1    ts\n",
       "3  10-cloverfield-lane-2016   srt         1  type\n",
       "4  10-cloverfield-lane-2016   srt         2    ts"
      ]
     },
     "execution_count": 183,
     "metadata": {},
     "output_type": "execute_result"
    }
   ],
   "source": [
    "d = pd.DataFrame(df['A'].str.split('.').tolist(), columns=['Name','dummy','scare_num', 'var'])\n",
    "d.head()"
   ]
  },
  {
   "cell_type": "code",
   "execution_count": 184,
   "metadata": {},
   "outputs": [
    {
     "data": {
      "text/html": [
       "<div>\n",
       "<style scoped>\n",
       "    .dataframe tbody tr th:only-of-type {\n",
       "        vertical-align: middle;\n",
       "    }\n",
       "\n",
       "    .dataframe tbody tr th {\n",
       "        vertical-align: top;\n",
       "    }\n",
       "\n",
       "    .dataframe thead th {\n",
       "        text-align: right;\n",
       "    }\n",
       "</style>\n",
       "<table border=\"1\" class=\"dataframe\">\n",
       "  <thead>\n",
       "    <tr style=\"text-align: right;\">\n",
       "      <th></th>\n",
       "      <th>Name</th>\n",
       "      <th>dummy</th>\n",
       "      <th>scare_num</th>\n",
       "      <th>var</th>\n",
       "      <th>B</th>\n",
       "    </tr>\n",
       "  </thead>\n",
       "  <tbody>\n",
       "    <tr>\n",
       "      <td>0</td>\n",
       "      <td>10-cloverfield-lane-2016</td>\n",
       "      <td>srt</td>\n",
       "      <td>0</td>\n",
       "      <td>ts</td>\n",
       "      <td>00:05:13.000</td>\n",
       "    </tr>\n",
       "    <tr>\n",
       "      <td>1</td>\n",
       "      <td>10-cloverfield-lane-2016</td>\n",
       "      <td>srt</td>\n",
       "      <td>0</td>\n",
       "      <td>type</td>\n",
       "      <td>major</td>\n",
       "    </tr>\n",
       "    <tr>\n",
       "      <td>2</td>\n",
       "      <td>10-cloverfield-lane-2016</td>\n",
       "      <td>srt</td>\n",
       "      <td>1</td>\n",
       "      <td>ts</td>\n",
       "      <td>00:19:58.000</td>\n",
       "    </tr>\n",
       "    <tr>\n",
       "      <td>3</td>\n",
       "      <td>10-cloverfield-lane-2016</td>\n",
       "      <td>srt</td>\n",
       "      <td>1</td>\n",
       "      <td>type</td>\n",
       "      <td>minor</td>\n",
       "    </tr>\n",
       "    <tr>\n",
       "      <td>4</td>\n",
       "      <td>10-cloverfield-lane-2016</td>\n",
       "      <td>srt</td>\n",
       "      <td>2</td>\n",
       "      <td>ts</td>\n",
       "      <td>00:38:15.000</td>\n",
       "    </tr>\n",
       "  </tbody>\n",
       "</table>\n",
       "</div>"
      ],
      "text/plain": [
       "                       Name dummy scare_num   var             B\n",
       "0  10-cloverfield-lane-2016   srt         0    ts  00:05:13.000\n",
       "1  10-cloverfield-lane-2016   srt         0  type         major\n",
       "2  10-cloverfield-lane-2016   srt         1    ts  00:19:58.000\n",
       "3  10-cloverfield-lane-2016   srt         1  type         minor\n",
       "4  10-cloverfield-lane-2016   srt         2    ts  00:38:15.000"
      ]
     },
     "execution_count": 184,
     "metadata": {},
     "output_type": "execute_result"
    }
   ],
   "source": [
    "df = pd.concat([d, df['B']], axis=1)\n",
    "df.head()"
   ]
  },
  {
   "cell_type": "code",
   "execution_count": 185,
   "metadata": {},
   "outputs": [
    {
     "data": {
      "text/html": [
       "<div>\n",
       "<style scoped>\n",
       "    .dataframe tbody tr th:only-of-type {\n",
       "        vertical-align: middle;\n",
       "    }\n",
       "\n",
       "    .dataframe tbody tr th {\n",
       "        vertical-align: top;\n",
       "    }\n",
       "\n",
       "    .dataframe thead th {\n",
       "        text-align: right;\n",
       "    }\n",
       "</style>\n",
       "<table border=\"1\" class=\"dataframe\">\n",
       "  <thead>\n",
       "    <tr style=\"text-align: right;\">\n",
       "      <th></th>\n",
       "      <th>name</th>\n",
       "      <th>year</th>\n",
       "    </tr>\n",
       "  </thead>\n",
       "  <tbody>\n",
       "    <tr>\n",
       "      <td>0</td>\n",
       "      <td>10-cloverfield-lane</td>\n",
       "      <td>2016</td>\n",
       "    </tr>\n",
       "    <tr>\n",
       "      <td>1</td>\n",
       "      <td>10-cloverfield-lane</td>\n",
       "      <td>2016</td>\n",
       "    </tr>\n",
       "    <tr>\n",
       "      <td>2</td>\n",
       "      <td>10-cloverfield-lane</td>\n",
       "      <td>2016</td>\n",
       "    </tr>\n",
       "    <tr>\n",
       "      <td>3</td>\n",
       "      <td>10-cloverfield-lane</td>\n",
       "      <td>2016</td>\n",
       "    </tr>\n",
       "    <tr>\n",
       "      <td>4</td>\n",
       "      <td>10-cloverfield-lane</td>\n",
       "      <td>2016</td>\n",
       "    </tr>\n",
       "  </tbody>\n",
       "</table>\n",
       "</div>"
      ],
      "text/plain": [
       "                  name  year\n",
       "0  10-cloverfield-lane  2016\n",
       "1  10-cloverfield-lane  2016\n",
       "2  10-cloverfield-lane  2016\n",
       "3  10-cloverfield-lane  2016\n",
       "4  10-cloverfield-lane  2016"
      ]
     },
     "execution_count": 185,
     "metadata": {},
     "output_type": "execute_result"
    }
   ],
   "source": [
    "d2 = pd.DataFrame(df['Name'].str.rsplit('-', 1).tolist(), columns=['name','year'])\n",
    "d2.head()"
   ]
  },
  {
   "cell_type": "code",
   "execution_count": 186,
   "metadata": {},
   "outputs": [
    {
     "data": {
      "text/html": [
       "<div>\n",
       "<style scoped>\n",
       "    .dataframe tbody tr th:only-of-type {\n",
       "        vertical-align: middle;\n",
       "    }\n",
       "\n",
       "    .dataframe tbody tr th {\n",
       "        vertical-align: top;\n",
       "    }\n",
       "\n",
       "    .dataframe thead th {\n",
       "        text-align: right;\n",
       "    }\n",
       "</style>\n",
       "<table border=\"1\" class=\"dataframe\">\n",
       "  <thead>\n",
       "    <tr style=\"text-align: right;\">\n",
       "      <th></th>\n",
       "      <th>name</th>\n",
       "      <th>year</th>\n",
       "      <th>scare_num</th>\n",
       "      <th>var</th>\n",
       "      <th>B</th>\n",
       "    </tr>\n",
       "  </thead>\n",
       "  <tbody>\n",
       "    <tr>\n",
       "      <td>0</td>\n",
       "      <td>10-cloverfield-lane</td>\n",
       "      <td>2016</td>\n",
       "      <td>0</td>\n",
       "      <td>ts</td>\n",
       "      <td>00:05:13.000</td>\n",
       "    </tr>\n",
       "    <tr>\n",
       "      <td>1</td>\n",
       "      <td>10-cloverfield-lane</td>\n",
       "      <td>2016</td>\n",
       "      <td>0</td>\n",
       "      <td>type</td>\n",
       "      <td>major</td>\n",
       "    </tr>\n",
       "    <tr>\n",
       "      <td>2</td>\n",
       "      <td>10-cloverfield-lane</td>\n",
       "      <td>2016</td>\n",
       "      <td>1</td>\n",
       "      <td>ts</td>\n",
       "      <td>00:19:58.000</td>\n",
       "    </tr>\n",
       "    <tr>\n",
       "      <td>3</td>\n",
       "      <td>10-cloverfield-lane</td>\n",
       "      <td>2016</td>\n",
       "      <td>1</td>\n",
       "      <td>type</td>\n",
       "      <td>minor</td>\n",
       "    </tr>\n",
       "    <tr>\n",
       "      <td>4</td>\n",
       "      <td>10-cloverfield-lane</td>\n",
       "      <td>2016</td>\n",
       "      <td>2</td>\n",
       "      <td>ts</td>\n",
       "      <td>00:38:15.000</td>\n",
       "    </tr>\n",
       "  </tbody>\n",
       "</table>\n",
       "</div>"
      ],
      "text/plain": [
       "                  name  year scare_num   var             B\n",
       "0  10-cloverfield-lane  2016         0    ts  00:05:13.000\n",
       "1  10-cloverfield-lane  2016         0  type         major\n",
       "2  10-cloverfield-lane  2016         1    ts  00:19:58.000\n",
       "3  10-cloverfield-lane  2016         1  type         minor\n",
       "4  10-cloverfield-lane  2016         2    ts  00:38:15.000"
      ]
     },
     "execution_count": 186,
     "metadata": {},
     "output_type": "execute_result"
    }
   ],
   "source": [
    "df = pd.concat([d2, df[['scare_num','var','B']]], axis=1)\n",
    "df.head()"
   ]
  },
  {
   "cell_type": "code",
   "execution_count": 187,
   "metadata": {},
   "outputs": [
    {
     "data": {
      "text/html": [
       "<div>\n",
       "<style scoped>\n",
       "    .dataframe tbody tr th:only-of-type {\n",
       "        vertical-align: middle;\n",
       "    }\n",
       "\n",
       "    .dataframe tbody tr th {\n",
       "        vertical-align: top;\n",
       "    }\n",
       "\n",
       "    .dataframe thead th {\n",
       "        text-align: right;\n",
       "    }\n",
       "</style>\n",
       "<table border=\"1\" class=\"dataframe\">\n",
       "  <thead>\n",
       "    <tr style=\"text-align: right;\">\n",
       "      <th></th>\n",
       "      <th>name</th>\n",
       "      <th>year</th>\n",
       "      <th>scare_num</th>\n",
       "      <th>ts</th>\n",
       "      <th>type</th>\n",
       "    </tr>\n",
       "  </thead>\n",
       "  <tbody>\n",
       "    <tr>\n",
       "      <td>0</td>\n",
       "      <td>10-cloverfield-lane</td>\n",
       "      <td>2016</td>\n",
       "      <td>0</td>\n",
       "      <td>00:05:13.000</td>\n",
       "      <td>major</td>\n",
       "    </tr>\n",
       "    <tr>\n",
       "      <td>1</td>\n",
       "      <td>10-cloverfield-lane</td>\n",
       "      <td>2016</td>\n",
       "      <td>1</td>\n",
       "      <td>00:19:58.000</td>\n",
       "      <td>minor</td>\n",
       "    </tr>\n",
       "    <tr>\n",
       "      <td>2</td>\n",
       "      <td>10-cloverfield-lane</td>\n",
       "      <td>2016</td>\n",
       "      <td>2</td>\n",
       "      <td>00:38:15.000</td>\n",
       "      <td>minor</td>\n",
       "    </tr>\n",
       "    <tr>\n",
       "      <td>3</td>\n",
       "      <td>10-cloverfield-lane</td>\n",
       "      <td>2016</td>\n",
       "      <td>3</td>\n",
       "      <td>00:41:43.000</td>\n",
       "      <td>minor</td>\n",
       "    </tr>\n",
       "    <tr>\n",
       "      <td>4</td>\n",
       "      <td>10-cloverfield-lane</td>\n",
       "      <td>2016</td>\n",
       "      <td>4</td>\n",
       "      <td>01:15:08.000</td>\n",
       "      <td>minor</td>\n",
       "    </tr>\n",
       "    <tr>\n",
       "      <td>...</td>\n",
       "      <td>...</td>\n",
       "      <td>...</td>\n",
       "      <td>...</td>\n",
       "      <td>...</td>\n",
       "      <td>...</td>\n",
       "    </tr>\n",
       "    <tr>\n",
       "      <td>4670</td>\n",
       "      <td>zombieland</td>\n",
       "      <td>2009</td>\n",
       "      <td>4</td>\n",
       "      <td>00:13:05.000</td>\n",
       "      <td>minor</td>\n",
       "    </tr>\n",
       "    <tr>\n",
       "      <td>4671</td>\n",
       "      <td>zombieland</td>\n",
       "      <td>2009</td>\n",
       "      <td>5</td>\n",
       "      <td>00:16:27.000</td>\n",
       "      <td>major</td>\n",
       "    </tr>\n",
       "    <tr>\n",
       "      <td>4672</td>\n",
       "      <td>zombieland</td>\n",
       "      <td>2009</td>\n",
       "      <td>6</td>\n",
       "      <td>00:17:55.000</td>\n",
       "      <td>minor</td>\n",
       "    </tr>\n",
       "    <tr>\n",
       "      <td>4673</td>\n",
       "      <td>zombieland</td>\n",
       "      <td>2009</td>\n",
       "      <td>7</td>\n",
       "      <td>01:15:03.000</td>\n",
       "      <td>minor</td>\n",
       "    </tr>\n",
       "    <tr>\n",
       "      <td>4674</td>\n",
       "      <td>zombieland</td>\n",
       "      <td>2009</td>\n",
       "      <td>8</td>\n",
       "      <td>01:15:16.000</td>\n",
       "      <td>major</td>\n",
       "    </tr>\n",
       "  </tbody>\n",
       "</table>\n",
       "<p>4675 rows × 5 columns</p>\n",
       "</div>"
      ],
      "text/plain": [
       "                     name  year scare_num            ts   type\n",
       "0     10-cloverfield-lane  2016         0  00:05:13.000  major\n",
       "1     10-cloverfield-lane  2016         1  00:19:58.000  minor\n",
       "2     10-cloverfield-lane  2016         2  00:38:15.000  minor\n",
       "3     10-cloverfield-lane  2016         3  00:41:43.000  minor\n",
       "4     10-cloverfield-lane  2016         4  01:15:08.000  minor\n",
       "...                   ...   ...       ...           ...    ...\n",
       "4670           zombieland  2009         4  00:13:05.000  minor\n",
       "4671           zombieland  2009         5  00:16:27.000  major\n",
       "4672           zombieland  2009         6  00:17:55.000  minor\n",
       "4673           zombieland  2009         7  01:15:03.000  minor\n",
       "4674           zombieland  2009         8  01:15:16.000  major\n",
       "\n",
       "[4675 rows x 5 columns]"
      ]
     },
     "execution_count": 187,
     "metadata": {},
     "output_type": "execute_result"
    }
   ],
   "source": [
    "df = df.pivot_table(index=['name','year','scare_num'], columns='var', values='B', aggfunc='first').reset_index()\n",
    "df.columns.name = ''\n",
    "df"
   ]
  },
  {
   "cell_type": "code",
   "execution_count": 188,
   "metadata": {},
   "outputs": [
    {
     "data": {
      "application/vnd.jupyter.widget-view+json": {
       "model_id": "a19fe85db46743a9be49d411b7bb77e5",
       "version_major": 2,
       "version_minor": 0
      },
      "text/plain": [
       "HBox(children=(IntProgress(value=0, max=4675), HTML(value='')))"
      ]
     },
     "metadata": {},
     "output_type": "display_data"
    },
    {
     "name": "stdout",
     "output_type": "stream",
     "text": [
      "\n"
     ]
    }
   ],
   "source": [
    "new_names = []\n",
    "for name in tqdm_notebook(df['name']):\n",
    "    try:\n",
    "        x = get_close_matches(name, df_agg['movie_name'], cutoff=0.7)[0]\n",
    "        new_names.append(x)\n",
    "    except:\n",
    "        new_names.append('')"
   ]
  },
  {
   "cell_type": "code",
   "execution_count": 189,
   "metadata": {},
   "outputs": [
    {
     "data": {
      "text/html": [
       "<div>\n",
       "<style scoped>\n",
       "    .dataframe tbody tr th:only-of-type {\n",
       "        vertical-align: middle;\n",
       "    }\n",
       "\n",
       "    .dataframe tbody tr th {\n",
       "        vertical-align: top;\n",
       "    }\n",
       "\n",
       "    .dataframe thead th {\n",
       "        text-align: right;\n",
       "    }\n",
       "</style>\n",
       "<table border=\"1\" class=\"dataframe\">\n",
       "  <thead>\n",
       "    <tr style=\"text-align: right;\">\n",
       "      <th></th>\n",
       "      <th>name</th>\n",
       "      <th>year</th>\n",
       "      <th>scare_num</th>\n",
       "      <th>ts</th>\n",
       "      <th>type</th>\n",
       "      <th>clean_name</th>\n",
       "    </tr>\n",
       "  </thead>\n",
       "  <tbody>\n",
       "    <tr>\n",
       "      <td>0</td>\n",
       "      <td>10-cloverfield-lane</td>\n",
       "      <td>2016</td>\n",
       "      <td>0</td>\n",
       "      <td>00:05:13.000</td>\n",
       "      <td>major</td>\n",
       "      <td>10 Cloverfield Lane</td>\n",
       "    </tr>\n",
       "    <tr>\n",
       "      <td>1</td>\n",
       "      <td>10-cloverfield-lane</td>\n",
       "      <td>2016</td>\n",
       "      <td>1</td>\n",
       "      <td>00:19:58.000</td>\n",
       "      <td>minor</td>\n",
       "      <td>10 Cloverfield Lane</td>\n",
       "    </tr>\n",
       "    <tr>\n",
       "      <td>2</td>\n",
       "      <td>10-cloverfield-lane</td>\n",
       "      <td>2016</td>\n",
       "      <td>2</td>\n",
       "      <td>00:38:15.000</td>\n",
       "      <td>minor</td>\n",
       "      <td>10 Cloverfield Lane</td>\n",
       "    </tr>\n",
       "    <tr>\n",
       "      <td>3</td>\n",
       "      <td>10-cloverfield-lane</td>\n",
       "      <td>2016</td>\n",
       "      <td>3</td>\n",
       "      <td>00:41:43.000</td>\n",
       "      <td>minor</td>\n",
       "      <td>10 Cloverfield Lane</td>\n",
       "    </tr>\n",
       "    <tr>\n",
       "      <td>4</td>\n",
       "      <td>10-cloverfield-lane</td>\n",
       "      <td>2016</td>\n",
       "      <td>4</td>\n",
       "      <td>01:15:08.000</td>\n",
       "      <td>minor</td>\n",
       "      <td>10 Cloverfield Lane</td>\n",
       "    </tr>\n",
       "  </tbody>\n",
       "</table>\n",
       "</div>"
      ],
      "text/plain": [
       "                  name  year scare_num            ts   type  \\\n",
       "0  10-cloverfield-lane  2016         0  00:05:13.000  major   \n",
       "1  10-cloverfield-lane  2016         1  00:19:58.000  minor   \n",
       "2  10-cloverfield-lane  2016         2  00:38:15.000  minor   \n",
       "3  10-cloverfield-lane  2016         3  00:41:43.000  minor   \n",
       "4  10-cloverfield-lane  2016         4  01:15:08.000  minor   \n",
       "\n",
       "            clean_name  \n",
       "0  10 Cloverfield Lane  \n",
       "1  10 Cloverfield Lane  \n",
       "2  10 Cloverfield Lane  \n",
       "3  10 Cloverfield Lane  \n",
       "4  10 Cloverfield Lane  "
      ]
     },
     "execution_count": 189,
     "metadata": {},
     "output_type": "execute_result"
    }
   ],
   "source": [
    "df['clean_name'] = new_names\n",
    "df.head()"
   ]
  },
  {
   "cell_type": "markdown",
   "metadata": {},
   "source": [
    "This movie has a missing year in the timestamp dataset so I am manually fixing it. "
   ]
  },
  {
   "cell_type": "code",
   "execution_count": 190,
   "metadata": {},
   "outputs": [],
   "source": [
    "df.loc[df['name'].str.contains('summer-of'), 'name'] = 'summer-of-84'\n",
    "df.loc[df['name'].str.contains('summer-of'), 'clean_name'] = 'Summer of 84'\n",
    "df.loc[df['name'].str.contains('summer-of'), 'year'] = 2018"
   ]
  },
  {
   "cell_type": "code",
   "execution_count": 191,
   "metadata": {},
   "outputs": [
    {
     "name": "stdout",
     "output_type": "stream",
     "text": [
      "(4675, 7)\n"
     ]
    },
    {
     "data": {
      "text/html": [
       "<div>\n",
       "<style scoped>\n",
       "    .dataframe tbody tr th:only-of-type {\n",
       "        vertical-align: middle;\n",
       "    }\n",
       "\n",
       "    .dataframe tbody tr th {\n",
       "        vertical-align: top;\n",
       "    }\n",
       "\n",
       "    .dataframe thead th {\n",
       "        text-align: right;\n",
       "    }\n",
       "</style>\n",
       "<table border=\"1\" class=\"dataframe\">\n",
       "  <thead>\n",
       "    <tr style=\"text-align: right;\">\n",
       "      <th></th>\n",
       "      <th>name</th>\n",
       "      <th>year</th>\n",
       "      <th>scare_num</th>\n",
       "      <th>ts</th>\n",
       "      <th>type</th>\n",
       "      <th>clean_name</th>\n",
       "      <th>ts_delta</th>\n",
       "    </tr>\n",
       "  </thead>\n",
       "  <tbody>\n",
       "    <tr>\n",
       "      <td>0</td>\n",
       "      <td>10-cloverfield-lane</td>\n",
       "      <td>2016-01-01</td>\n",
       "      <td>0</td>\n",
       "      <td>1900-01-01 00:05:13</td>\n",
       "      <td>major</td>\n",
       "      <td>10 Cloverfield Lane</td>\n",
       "      <td>313</td>\n",
       "    </tr>\n",
       "    <tr>\n",
       "      <td>1</td>\n",
       "      <td>10-cloverfield-lane</td>\n",
       "      <td>2016-01-01</td>\n",
       "      <td>1</td>\n",
       "      <td>1900-01-01 00:19:58</td>\n",
       "      <td>minor</td>\n",
       "      <td>10 Cloverfield Lane</td>\n",
       "      <td>1198</td>\n",
       "    </tr>\n",
       "    <tr>\n",
       "      <td>2</td>\n",
       "      <td>10-cloverfield-lane</td>\n",
       "      <td>2016-01-01</td>\n",
       "      <td>2</td>\n",
       "      <td>1900-01-01 00:38:15</td>\n",
       "      <td>minor</td>\n",
       "      <td>10 Cloverfield Lane</td>\n",
       "      <td>2295</td>\n",
       "    </tr>\n",
       "    <tr>\n",
       "      <td>3</td>\n",
       "      <td>10-cloverfield-lane</td>\n",
       "      <td>2016-01-01</td>\n",
       "      <td>3</td>\n",
       "      <td>1900-01-01 00:41:43</td>\n",
       "      <td>minor</td>\n",
       "      <td>10 Cloverfield Lane</td>\n",
       "      <td>2503</td>\n",
       "    </tr>\n",
       "    <tr>\n",
       "      <td>4</td>\n",
       "      <td>10-cloverfield-lane</td>\n",
       "      <td>2016-01-01</td>\n",
       "      <td>4</td>\n",
       "      <td>1900-01-01 01:15:08</td>\n",
       "      <td>minor</td>\n",
       "      <td>10 Cloverfield Lane</td>\n",
       "      <td>4508</td>\n",
       "    </tr>\n",
       "  </tbody>\n",
       "</table>\n",
       "</div>"
      ],
      "text/plain": [
       "                  name       year scare_num                  ts   type  \\\n",
       "0  10-cloverfield-lane 2016-01-01         0 1900-01-01 00:05:13  major   \n",
       "1  10-cloverfield-lane 2016-01-01         1 1900-01-01 00:19:58  minor   \n",
       "2  10-cloverfield-lane 2016-01-01         2 1900-01-01 00:38:15  minor   \n",
       "3  10-cloverfield-lane 2016-01-01         3 1900-01-01 00:41:43  minor   \n",
       "4  10-cloverfield-lane 2016-01-01         4 1900-01-01 01:15:08  minor   \n",
       "\n",
       "            clean_name  ts_delta  \n",
       "0  10 Cloverfield Lane       313  \n",
       "1  10 Cloverfield Lane      1198  \n",
       "2  10 Cloverfield Lane      2295  \n",
       "3  10 Cloverfield Lane      2503  \n",
       "4  10 Cloverfield Lane      4508  "
      ]
     },
     "execution_count": 191,
     "metadata": {},
     "output_type": "execute_result"
    }
   ],
   "source": [
    "df['year'] = pd.to_datetime(df['year'].astype('str'), format='%Y')\n",
    "df['ts_delta'] = pd.to_timedelta(df['ts']).dt.seconds\n",
    "df['ts'] = pd.to_datetime(df['ts'], format='%H:%M:%S.%f')\n",
    "print(df.shape)\n",
    "df.head()"
   ]
  },
  {
   "cell_type": "markdown",
   "metadata": {},
   "source": [
    "Some of these missing movies are not present in the original csv but others have been miss-matched during the string comparison part. "
   ]
  },
  {
   "cell_type": "code",
   "execution_count": 192,
   "metadata": {},
   "outputs": [
    {
     "data": {
      "text/plain": [
       "(526, 329)"
      ]
     },
     "execution_count": 192,
     "metadata": {},
     "output_type": "execute_result"
    }
   ],
   "source": [
    "df_agg['movie_name'].nunique(), df['clean_name'].nunique()"
   ]
  },
  {
   "cell_type": "markdown",
   "metadata": {},
   "source": [
    "The missing movies are dropped automatically during the merge, then I drop the mis-matched ones."
   ]
  },
  {
   "cell_type": "code",
   "execution_count": 193,
   "metadata": {},
   "outputs": [
    {
     "data": {
      "text/html": [
       "<div>\n",
       "<style scoped>\n",
       "    .dataframe tbody tr th:only-of-type {\n",
       "        vertical-align: middle;\n",
       "    }\n",
       "\n",
       "    .dataframe tbody tr th {\n",
       "        vertical-align: top;\n",
       "    }\n",
       "\n",
       "    .dataframe thead th {\n",
       "        text-align: right;\n",
       "    }\n",
       "</style>\n",
       "<table border=\"1\" class=\"dataframe\">\n",
       "  <thead>\n",
       "    <tr style=\"text-align: right;\">\n",
       "      <th></th>\n",
       "      <th>name</th>\n",
       "      <th>year</th>\n",
       "      <th>scare_num</th>\n",
       "      <th>ts</th>\n",
       "      <th>type</th>\n",
       "      <th>ts_delta</th>\n",
       "      <th>movie_name</th>\n",
       "      <th>director</th>\n",
       "      <th>jump_count</th>\n",
       "      <th>jump_scare_rating</th>\n",
       "      <th>imdb</th>\n",
       "      <th>runtime</th>\n",
       "    </tr>\n",
       "  </thead>\n",
       "  <tbody>\n",
       "    <tr>\n",
       "      <td>0</td>\n",
       "      <td>10-cloverfield-lane</td>\n",
       "      <td>2016-01-01</td>\n",
       "      <td>0</td>\n",
       "      <td>1900-01-01 00:05:13</td>\n",
       "      <td>major</td>\n",
       "      <td>313</td>\n",
       "      <td>10 Cloverfield Lane</td>\n",
       "      <td>Dan Trachtenberg</td>\n",
       "      <td>8</td>\n",
       "      <td>2.5</td>\n",
       "      <td>7.3</td>\n",
       "      <td>6180</td>\n",
       "    </tr>\n",
       "    <tr>\n",
       "      <td>1</td>\n",
       "      <td>10-cloverfield-lane</td>\n",
       "      <td>2016-01-01</td>\n",
       "      <td>1</td>\n",
       "      <td>1900-01-01 00:19:58</td>\n",
       "      <td>minor</td>\n",
       "      <td>1198</td>\n",
       "      <td>10 Cloverfield Lane</td>\n",
       "      <td>Dan Trachtenberg</td>\n",
       "      <td>8</td>\n",
       "      <td>2.5</td>\n",
       "      <td>7.3</td>\n",
       "      <td>6180</td>\n",
       "    </tr>\n",
       "    <tr>\n",
       "      <td>2</td>\n",
       "      <td>10-cloverfield-lane</td>\n",
       "      <td>2016-01-01</td>\n",
       "      <td>2</td>\n",
       "      <td>1900-01-01 00:38:15</td>\n",
       "      <td>minor</td>\n",
       "      <td>2295</td>\n",
       "      <td>10 Cloverfield Lane</td>\n",
       "      <td>Dan Trachtenberg</td>\n",
       "      <td>8</td>\n",
       "      <td>2.5</td>\n",
       "      <td>7.3</td>\n",
       "      <td>6180</td>\n",
       "    </tr>\n",
       "    <tr>\n",
       "      <td>3</td>\n",
       "      <td>10-cloverfield-lane</td>\n",
       "      <td>2016-01-01</td>\n",
       "      <td>3</td>\n",
       "      <td>1900-01-01 00:41:43</td>\n",
       "      <td>minor</td>\n",
       "      <td>2503</td>\n",
       "      <td>10 Cloverfield Lane</td>\n",
       "      <td>Dan Trachtenberg</td>\n",
       "      <td>8</td>\n",
       "      <td>2.5</td>\n",
       "      <td>7.3</td>\n",
       "      <td>6180</td>\n",
       "    </tr>\n",
       "    <tr>\n",
       "      <td>4</td>\n",
       "      <td>10-cloverfield-lane</td>\n",
       "      <td>2016-01-01</td>\n",
       "      <td>4</td>\n",
       "      <td>1900-01-01 01:15:08</td>\n",
       "      <td>minor</td>\n",
       "      <td>4508</td>\n",
       "      <td>10 Cloverfield Lane</td>\n",
       "      <td>Dan Trachtenberg</td>\n",
       "      <td>8</td>\n",
       "      <td>2.5</td>\n",
       "      <td>7.3</td>\n",
       "      <td>6180</td>\n",
       "    </tr>\n",
       "  </tbody>\n",
       "</table>\n",
       "</div>"
      ],
      "text/plain": [
       "                  name       year scare_num                  ts   type  \\\n",
       "0  10-cloverfield-lane 2016-01-01         0 1900-01-01 00:05:13  major   \n",
       "1  10-cloverfield-lane 2016-01-01         1 1900-01-01 00:19:58  minor   \n",
       "2  10-cloverfield-lane 2016-01-01         2 1900-01-01 00:38:15  minor   \n",
       "3  10-cloverfield-lane 2016-01-01         3 1900-01-01 00:41:43  minor   \n",
       "4  10-cloverfield-lane 2016-01-01         4 1900-01-01 01:15:08  minor   \n",
       "\n",
       "   ts_delta           movie_name          director  jump_count  \\\n",
       "0       313  10 Cloverfield Lane  Dan Trachtenberg           8   \n",
       "1      1198  10 Cloverfield Lane  Dan Trachtenberg           8   \n",
       "2      2295  10 Cloverfield Lane  Dan Trachtenberg           8   \n",
       "3      2503  10 Cloverfield Lane  Dan Trachtenberg           8   \n",
       "4      4508  10 Cloverfield Lane  Dan Trachtenberg           8   \n",
       "\n",
       "   jump_scare_rating  imdb runtime  \n",
       "0                2.5   7.3    6180  \n",
       "1                2.5   7.3    6180  \n",
       "2                2.5   7.3    6180  \n",
       "3                2.5   7.3    6180  \n",
       "4                2.5   7.3    6180  "
      ]
     },
     "execution_count": 193,
     "metadata": {},
     "output_type": "execute_result"
    }
   ],
   "source": [
    "df_ts = pd.merge(df, df_agg, left_on='clean_name', right_on='movie_name', how='inner')\n",
    "df_ts.drop((df_ts[df_ts['year_x']!=df_ts['year_y']]).index, axis=0, inplace=True)\n",
    "df_ts.drop(['year_y','clean_name'], axis=1, inplace=True)\n",
    "df_ts.rename({'year_x':'year'}, axis=1, inplace=True)\n",
    "df_ts['runtime'] = df_ts['runtime'] * 60.0\n",
    "df_ts.head()"
   ]
  },
  {
   "cell_type": "markdown",
   "metadata": {},
   "source": [
    "Two movies have jumpscares which have a timestamp which exceeds the movie's runtime. I'm removing those movies. "
   ]
  },
  {
   "cell_type": "code",
   "execution_count": 194,
   "metadata": {},
   "outputs": [],
   "source": [
    "df_ts = df_ts[~df_ts['name'].isin(df_ts[df_ts['ts_delta'] > df_ts['runtime']]['name'])]"
   ]
  },
  {
   "cell_type": "markdown",
   "metadata": {},
   "source": [
    "Now I calculate the relative posiiton of jumpscares in each movie. This essentially normalizes the positions for longer and shorter movies. "
   ]
  },
  {
   "cell_type": "code",
   "execution_count": 195,
   "metadata": {},
   "outputs": [],
   "source": [
    "df_ts['position'] = df_ts['ts_delta'] / df_ts['runtime']"
   ]
  },
  {
   "cell_type": "code",
   "execution_count": 196,
   "metadata": {},
   "outputs": [
    {
     "name": "stdout",
     "output_type": "stream",
     "text": [
      "(3077, 12)\n"
     ]
    },
    {
     "data": {
      "text/html": [
       "<div>\n",
       "<style scoped>\n",
       "    .dataframe tbody tr th:only-of-type {\n",
       "        vertical-align: middle;\n",
       "    }\n",
       "\n",
       "    .dataframe tbody tr th {\n",
       "        vertical-align: top;\n",
       "    }\n",
       "\n",
       "    .dataframe thead th {\n",
       "        text-align: right;\n",
       "    }\n",
       "</style>\n",
       "<table border=\"1\" class=\"dataframe\">\n",
       "  <thead>\n",
       "    <tr style=\"text-align: right;\">\n",
       "      <th></th>\n",
       "      <th>year</th>\n",
       "      <th>scare_num</th>\n",
       "      <th>ts</th>\n",
       "      <th>type</th>\n",
       "      <th>ts_delta</th>\n",
       "      <th>movie_name</th>\n",
       "      <th>director</th>\n",
       "      <th>jump_count</th>\n",
       "      <th>jump_scare_rating</th>\n",
       "      <th>imdb</th>\n",
       "      <th>runtime</th>\n",
       "      <th>position</th>\n",
       "    </tr>\n",
       "  </thead>\n",
       "  <tbody>\n",
       "    <tr>\n",
       "      <td>0</td>\n",
       "      <td>2016-01-01</td>\n",
       "      <td>0</td>\n",
       "      <td>1900-01-01 00:05:13</td>\n",
       "      <td>major</td>\n",
       "      <td>313</td>\n",
       "      <td>10 Cloverfield Lane</td>\n",
       "      <td>Dan Trachtenberg</td>\n",
       "      <td>8</td>\n",
       "      <td>2.5</td>\n",
       "      <td>7.3</td>\n",
       "      <td>6180</td>\n",
       "      <td>0.0506472</td>\n",
       "    </tr>\n",
       "    <tr>\n",
       "      <td>1</td>\n",
       "      <td>2016-01-01</td>\n",
       "      <td>1</td>\n",
       "      <td>1900-01-01 00:19:58</td>\n",
       "      <td>minor</td>\n",
       "      <td>1198</td>\n",
       "      <td>10 Cloverfield Lane</td>\n",
       "      <td>Dan Trachtenberg</td>\n",
       "      <td>8</td>\n",
       "      <td>2.5</td>\n",
       "      <td>7.3</td>\n",
       "      <td>6180</td>\n",
       "      <td>0.193851</td>\n",
       "    </tr>\n",
       "    <tr>\n",
       "      <td>2</td>\n",
       "      <td>2016-01-01</td>\n",
       "      <td>2</td>\n",
       "      <td>1900-01-01 00:38:15</td>\n",
       "      <td>minor</td>\n",
       "      <td>2295</td>\n",
       "      <td>10 Cloverfield Lane</td>\n",
       "      <td>Dan Trachtenberg</td>\n",
       "      <td>8</td>\n",
       "      <td>2.5</td>\n",
       "      <td>7.3</td>\n",
       "      <td>6180</td>\n",
       "      <td>0.371359</td>\n",
       "    </tr>\n",
       "    <tr>\n",
       "      <td>3</td>\n",
       "      <td>2016-01-01</td>\n",
       "      <td>3</td>\n",
       "      <td>1900-01-01 00:41:43</td>\n",
       "      <td>minor</td>\n",
       "      <td>2503</td>\n",
       "      <td>10 Cloverfield Lane</td>\n",
       "      <td>Dan Trachtenberg</td>\n",
       "      <td>8</td>\n",
       "      <td>2.5</td>\n",
       "      <td>7.3</td>\n",
       "      <td>6180</td>\n",
       "      <td>0.405016</td>\n",
       "    </tr>\n",
       "    <tr>\n",
       "      <td>4</td>\n",
       "      <td>2016-01-01</td>\n",
       "      <td>4</td>\n",
       "      <td>1900-01-01 01:15:08</td>\n",
       "      <td>minor</td>\n",
       "      <td>4508</td>\n",
       "      <td>10 Cloverfield Lane</td>\n",
       "      <td>Dan Trachtenberg</td>\n",
       "      <td>8</td>\n",
       "      <td>2.5</td>\n",
       "      <td>7.3</td>\n",
       "      <td>6180</td>\n",
       "      <td>0.72945</td>\n",
       "    </tr>\n",
       "  </tbody>\n",
       "</table>\n",
       "</div>"
      ],
      "text/plain": [
       "        year scare_num                  ts   type  ts_delta  \\\n",
       "0 2016-01-01         0 1900-01-01 00:05:13  major       313   \n",
       "1 2016-01-01         1 1900-01-01 00:19:58  minor      1198   \n",
       "2 2016-01-01         2 1900-01-01 00:38:15  minor      2295   \n",
       "3 2016-01-01         3 1900-01-01 00:41:43  minor      2503   \n",
       "4 2016-01-01         4 1900-01-01 01:15:08  minor      4508   \n",
       "\n",
       "            movie_name          director  jump_count  jump_scare_rating  imdb  \\\n",
       "0  10 Cloverfield Lane  Dan Trachtenberg           8                2.5   7.3   \n",
       "1  10 Cloverfield Lane  Dan Trachtenberg           8                2.5   7.3   \n",
       "2  10 Cloverfield Lane  Dan Trachtenberg           8                2.5   7.3   \n",
       "3  10 Cloverfield Lane  Dan Trachtenberg           8                2.5   7.3   \n",
       "4  10 Cloverfield Lane  Dan Trachtenberg           8                2.5   7.3   \n",
       "\n",
       "  runtime   position  \n",
       "0    6180  0.0506472  \n",
       "1    6180   0.193851  \n",
       "2    6180   0.371359  \n",
       "3    6180   0.405016  \n",
       "4    6180    0.72945  "
      ]
     },
     "execution_count": 196,
     "metadata": {},
     "output_type": "execute_result"
    }
   ],
   "source": [
    "df_ts.drop('name', axis=1, inplace=True)\n",
    "print(df_ts.shape)\n",
    "df_ts.head()"
   ]
  },
  {
   "cell_type": "markdown",
   "metadata": {},
   "source": [
    "I'm also going to remove the the movies before 1950. These movies were made so far before the rest of the dataset that there can be no logical pattern between them and the far off movies mess with the scales on plots. "
   ]
  },
  {
   "cell_type": "code",
   "execution_count": 202,
   "metadata": {},
   "outputs": [],
   "source": [
    "df_ts = df_ts[df_ts['year'] > '1950']\n",
    "df_agg = df_agg[df_agg['year'] > '1950']"
   ]
  },
  {
   "cell_type": "markdown",
   "metadata": {},
   "source": [
    "Saving as pickle to maintain the column datatypes. "
   ]
  },
  {
   "cell_type": "code",
   "execution_count": 203,
   "metadata": {},
   "outputs": [],
   "source": [
    "df_ts.to_pickle('data_w_timestamps.pkl')\n",
    "df_agg.to_pickle('data_original.pkl')"
   ]
  },
  {
   "cell_type": "code",
   "execution_count": null,
   "metadata": {},
   "outputs": [],
   "source": []
  },
  {
   "cell_type": "code",
   "execution_count": null,
   "metadata": {},
   "outputs": [],
   "source": []
  },
  {
   "cell_type": "code",
   "execution_count": null,
   "metadata": {},
   "outputs": [],
   "source": []
  },
  {
   "cell_type": "code",
   "execution_count": null,
   "metadata": {},
   "outputs": [],
   "source": []
  },
  {
   "cell_type": "code",
   "execution_count": null,
   "metadata": {},
   "outputs": [],
   "source": []
  }
 ],
 "metadata": {
  "kernelspec": {
   "display_name": "Python 3",
   "language": "python",
   "name": "python3"
  },
  "language_info": {
   "codemirror_mode": {
    "name": "ipython",
    "version": 3
   },
   "file_extension": ".py",
   "mimetype": "text/x-python",
   "name": "python",
   "nbconvert_exporter": "python",
   "pygments_lexer": "ipython3",
   "version": "3.7.3"
  },
  "widgets": {
   "application/vnd.jupyter.widget-state+json": {
    "state": {
     "05eb9426033040f98597bc709d11f087": {
      "model_module": "@jupyter-widgets/base",
      "model_module_version": "1.2.0",
      "model_name": "LayoutModel",
      "state": {}
     },
     "09e2de4a0a6240b8bb2443bfae369b61": {
      "model_module": "@jupyter-widgets/base",
      "model_module_version": "1.2.0",
      "model_name": "LayoutModel",
      "state": {}
     },
     "0a1caa1ccf3547008bd92cb7a8eb5597": {
      "model_module": "@jupyter-widgets/controls",
      "model_module_version": "1.5.0",
      "model_name": "ProgressStyleModel",
      "state": {
       "description_width": ""
      }
     },
     "0bdac04f7773403588c5b4ffaea4d798": {
      "model_module": "@jupyter-widgets/base",
      "model_module_version": "1.2.0",
      "model_name": "LayoutModel",
      "state": {}
     },
     "0be7faed2aeb4fe6bd22b5b3c6455e21": {
      "model_module": "@jupyter-widgets/controls",
      "model_module_version": "1.5.0",
      "model_name": "IntProgressModel",
      "state": {
       "bar_style": "success",
       "layout": "IPY_MODEL_ddbb1073f1e64fedbd8ca9038ab848c3",
       "max": 4675,
       "style": "IPY_MODEL_0a1caa1ccf3547008bd92cb7a8eb5597",
       "value": 4675
      }
     },
     "1302e4b906264b1ca287377f45e954a3": {
      "model_module": "@jupyter-widgets/base",
      "model_module_version": "1.2.0",
      "model_name": "LayoutModel",
      "state": {}
     },
     "174914347e4b486f8b828ab8b48242e7": {
      "model_module": "@jupyter-widgets/base",
      "model_module_version": "1.2.0",
      "model_name": "LayoutModel",
      "state": {}
     },
     "1950b5e8a4be4f16bde520f66f4d5795": {
      "model_module": "@jupyter-widgets/controls",
      "model_module_version": "1.5.0",
      "model_name": "HBoxModel",
      "state": {
       "children": [
        "IPY_MODEL_92297b7727c0464d828dbd0e0e711b77",
        "IPY_MODEL_d0a41a4366e8405d9eb350edc92b48ca"
       ],
       "layout": "IPY_MODEL_650323bba0734f768c95c54dec476ccf"
      }
     },
     "1c4b5044df2e4446b2d9259893aa0ef5": {
      "model_module": "@jupyter-widgets/controls",
      "model_module_version": "1.5.0",
      "model_name": "HBoxModel",
      "state": {
       "children": [
        "IPY_MODEL_bd48ceb050c84274b82e62281f2323c7",
        "IPY_MODEL_7fdb3d7292c9476ca28f36e479846f37"
       ],
       "layout": "IPY_MODEL_b30b93da014449fba0886d08edee8e83"
      }
     },
     "2b94b24e3da34b80a6b5e02d70b0d215": {
      "model_module": "@jupyter-widgets/controls",
      "model_module_version": "1.5.0",
      "model_name": "HTMLModel",
      "state": {
       "layout": "IPY_MODEL_46675d8070d648b08bd9e4f77bdf5dc3",
       "style": "IPY_MODEL_f9cd1ca247014bc4bfaba2980c7135d7",
       "value": "100% 4675/4675 [00:24&lt;00:00, 191.72it/s]"
      }
     },
     "30412dda58ea4fb794777feae884c0a1": {
      "model_module": "@jupyter-widgets/controls",
      "model_module_version": "1.5.0",
      "model_name": "DescriptionStyleModel",
      "state": {
       "description_width": ""
      }
     },
     "38744ede0338446b99dcd6d79528b795": {
      "model_module": "@jupyter-widgets/controls",
      "model_module_version": "1.5.0",
      "model_name": "IntProgressModel",
      "state": {
       "bar_style": "success",
       "layout": "IPY_MODEL_43a0d5f4211548998967bb2760f793c2",
       "max": 4675,
       "style": "IPY_MODEL_75aa86ab9216400d895793b06a4dfcbd",
       "value": 4675
      }
     },
     "3bc34ad9ee844d61be9feeb518c19c48": {
      "model_module": "@jupyter-widgets/controls",
      "model_module_version": "1.5.0",
      "model_name": "IntProgressModel",
      "state": {
       "bar_style": "success",
       "layout": "IPY_MODEL_5ff0a627a6a84871bba053cd0bf026f9",
       "max": 4675,
       "style": "IPY_MODEL_fa2dc5584db847f0b11e50b64f472d21",
       "value": 4675
      }
     },
     "43a0d5f4211548998967bb2760f793c2": {
      "model_module": "@jupyter-widgets/base",
      "model_module_version": "1.2.0",
      "model_name": "LayoutModel",
      "state": {}
     },
     "46675d8070d648b08bd9e4f77bdf5dc3": {
      "model_module": "@jupyter-widgets/base",
      "model_module_version": "1.2.0",
      "model_name": "LayoutModel",
      "state": {}
     },
     "4731c59e18554f7496e7514a8e767d53": {
      "model_module": "@jupyter-widgets/controls",
      "model_module_version": "1.5.0",
      "model_name": "ProgressStyleModel",
      "state": {
       "description_width": ""
      }
     },
     "52a1b2acdca3437abec67ceddc076bb0": {
      "model_module": "@jupyter-widgets/controls",
      "model_module_version": "1.5.0",
      "model_name": "ProgressStyleModel",
      "state": {
       "description_width": ""
      }
     },
     "5ff0a627a6a84871bba053cd0bf026f9": {
      "model_module": "@jupyter-widgets/base",
      "model_module_version": "1.2.0",
      "model_name": "LayoutModel",
      "state": {}
     },
     "650323bba0734f768c95c54dec476ccf": {
      "model_module": "@jupyter-widgets/base",
      "model_module_version": "1.2.0",
      "model_name": "LayoutModel",
      "state": {}
     },
     "6d6f3cf3d0d945798196fe914f27bb2e": {
      "model_module": "@jupyter-widgets/controls",
      "model_module_version": "1.5.0",
      "model_name": "HBoxModel",
      "state": {
       "children": [
        "IPY_MODEL_0be7faed2aeb4fe6bd22b5b3c6455e21",
        "IPY_MODEL_7f70650f7c194a229cf8f3ad77d5bfa9"
       ],
       "layout": "IPY_MODEL_720f8afd4f9d4725ba303bc5d4c0e381"
      }
     },
     "720f8afd4f9d4725ba303bc5d4c0e381": {
      "model_module": "@jupyter-widgets/base",
      "model_module_version": "1.2.0",
      "model_name": "LayoutModel",
      "state": {}
     },
     "73f85aa4fb754f768ad23d27378bbc80": {
      "model_module": "@jupyter-widgets/controls",
      "model_module_version": "1.5.0",
      "model_name": "IntProgressModel",
      "state": {
       "bar_style": "success",
       "layout": "IPY_MODEL_7452d44831d0415b9b09796e4a7f8610",
       "max": 4675,
       "style": "IPY_MODEL_4731c59e18554f7496e7514a8e767d53",
       "value": 4675
      }
     },
     "7452d44831d0415b9b09796e4a7f8610": {
      "model_module": "@jupyter-widgets/base",
      "model_module_version": "1.2.0",
      "model_name": "LayoutModel",
      "state": {}
     },
     "75aa86ab9216400d895793b06a4dfcbd": {
      "model_module": "@jupyter-widgets/controls",
      "model_module_version": "1.5.0",
      "model_name": "ProgressStyleModel",
      "state": {
       "description_width": ""
      }
     },
     "7af51ef191e4496c87c7d089979c3986": {
      "model_module": "@jupyter-widgets/base",
      "model_module_version": "1.2.0",
      "model_name": "LayoutModel",
      "state": {}
     },
     "7f70650f7c194a229cf8f3ad77d5bfa9": {
      "model_module": "@jupyter-widgets/controls",
      "model_module_version": "1.5.0",
      "model_name": "HTMLModel",
      "state": {
       "layout": "IPY_MODEL_9cb32438125f451695b78f3245491c6f",
       "style": "IPY_MODEL_d65cce0c949b4d92b98411f3a2e4e573",
       "value": "100% 4675/4675 [00:08&lt;00:00, 537.50it/s]"
      }
     },
     "7fc779e3153340a791d9b715564a763b": {
      "model_module": "@jupyter-widgets/controls",
      "model_module_version": "1.5.0",
      "model_name": "DescriptionStyleModel",
      "state": {
       "description_width": ""
      }
     },
     "7fdb3d7292c9476ca28f36e479846f37": {
      "model_module": "@jupyter-widgets/controls",
      "model_module_version": "1.5.0",
      "model_name": "HTMLModel",
      "state": {
       "layout": "IPY_MODEL_0bdac04f7773403588c5b4ffaea4d798",
       "style": "IPY_MODEL_bede23e1419441018b2e374811eff947",
       "value": "100% 4675/4675 [00:08&lt;00:00, 549.42it/s]"
      }
     },
     "89e0b308edaf49b7a318b58290255fc0": {
      "model_module": "@jupyter-widgets/controls",
      "model_module_version": "1.5.0",
      "model_name": "DescriptionStyleModel",
      "state": {
       "description_width": ""
      }
     },
     "8da7d9c2bcb8464eb819222d21bc9fa5": {
      "model_module": "@jupyter-widgets/base",
      "model_module_version": "1.2.0",
      "model_name": "LayoutModel",
      "state": {}
     },
     "92297b7727c0464d828dbd0e0e711b77": {
      "model_module": "@jupyter-widgets/controls",
      "model_module_version": "1.5.0",
      "model_name": "IntProgressModel",
      "state": {
       "bar_style": "success",
       "layout": "IPY_MODEL_7af51ef191e4496c87c7d089979c3986",
       "max": 4675,
       "style": "IPY_MODEL_b28a6e08f85a42b8b59d7cdb1fbb27e0",
       "value": 4675
      }
     },
     "945a8d4b808141358f4377eb938f6dd8": {
      "model_module": "@jupyter-widgets/controls",
      "model_module_version": "1.5.0",
      "model_name": "HBoxModel",
      "state": {
       "children": [
        "IPY_MODEL_3bc34ad9ee844d61be9feeb518c19c48",
        "IPY_MODEL_2b94b24e3da34b80a6b5e02d70b0d215"
       ],
       "layout": "IPY_MODEL_c7f6caa823ea40ee80c6f9d285a04c5a"
      }
     },
     "9cb32438125f451695b78f3245491c6f": {
      "model_module": "@jupyter-widgets/base",
      "model_module_version": "1.2.0",
      "model_name": "LayoutModel",
      "state": {}
     },
     "a19fe85db46743a9be49d411b7bb77e5": {
      "model_module": "@jupyter-widgets/controls",
      "model_module_version": "1.5.0",
      "model_name": "HBoxModel",
      "state": {
       "children": [
        "IPY_MODEL_38744ede0338446b99dcd6d79528b795",
        "IPY_MODEL_d1e82d80f0a542b59fab89a5c38e8820"
       ],
       "layout": "IPY_MODEL_8da7d9c2bcb8464eb819222d21bc9fa5"
      }
     },
     "b28a6e08f85a42b8b59d7cdb1fbb27e0": {
      "model_module": "@jupyter-widgets/controls",
      "model_module_version": "1.5.0",
      "model_name": "ProgressStyleModel",
      "state": {
       "description_width": ""
      }
     },
     "b30b93da014449fba0886d08edee8e83": {
      "model_module": "@jupyter-widgets/base",
      "model_module_version": "1.2.0",
      "model_name": "LayoutModel",
      "state": {}
     },
     "bd48ceb050c84274b82e62281f2323c7": {
      "model_module": "@jupyter-widgets/controls",
      "model_module_version": "1.5.0",
      "model_name": "IntProgressModel",
      "state": {
       "bar_style": "success",
       "layout": "IPY_MODEL_05eb9426033040f98597bc709d11f087",
       "max": 4675,
       "style": "IPY_MODEL_52a1b2acdca3437abec67ceddc076bb0",
       "value": 4675
      }
     },
     "bede23e1419441018b2e374811eff947": {
      "model_module": "@jupyter-widgets/controls",
      "model_module_version": "1.5.0",
      "model_name": "DescriptionStyleModel",
      "state": {
       "description_width": ""
      }
     },
     "c7f6caa823ea40ee80c6f9d285a04c5a": {
      "model_module": "@jupyter-widgets/base",
      "model_module_version": "1.2.0",
      "model_name": "LayoutModel",
      "state": {}
     },
     "d0a41a4366e8405d9eb350edc92b48ca": {
      "model_module": "@jupyter-widgets/controls",
      "model_module_version": "1.5.0",
      "model_name": "HTMLModel",
      "state": {
       "layout": "IPY_MODEL_09e2de4a0a6240b8bb2443bfae369b61",
       "style": "IPY_MODEL_7fc779e3153340a791d9b715564a763b",
       "value": "100% 4675/4675 [00:40&lt;00:00, 114.61it/s]"
      }
     },
     "d1e82d80f0a542b59fab89a5c38e8820": {
      "model_module": "@jupyter-widgets/controls",
      "model_module_version": "1.5.0",
      "model_name": "HTMLModel",
      "state": {
       "layout": "IPY_MODEL_de7242b5aeb94d67ab3cf647ddd02b42",
       "style": "IPY_MODEL_30412dda58ea4fb794777feae884c0a1",
       "value": "100% 4675/4675 [00:09&lt;00:00, 507.86it/s]"
      }
     },
     "d65cce0c949b4d92b98411f3a2e4e573": {
      "model_module": "@jupyter-widgets/controls",
      "model_module_version": "1.5.0",
      "model_name": "DescriptionStyleModel",
      "state": {
       "description_width": ""
      }
     },
     "daac29490a834c4191173e2df0bd96dc": {
      "model_module": "@jupyter-widgets/controls",
      "model_module_version": "1.5.0",
      "model_name": "HBoxModel",
      "state": {
       "children": [
        "IPY_MODEL_73f85aa4fb754f768ad23d27378bbc80",
        "IPY_MODEL_fa1bbd3bdc8049c69e2bf4ba6e237511"
       ],
       "layout": "IPY_MODEL_174914347e4b486f8b828ab8b48242e7"
      }
     },
     "ddbb1073f1e64fedbd8ca9038ab848c3": {
      "model_module": "@jupyter-widgets/base",
      "model_module_version": "1.2.0",
      "model_name": "LayoutModel",
      "state": {}
     },
     "de7242b5aeb94d67ab3cf647ddd02b42": {
      "model_module": "@jupyter-widgets/base",
      "model_module_version": "1.2.0",
      "model_name": "LayoutModel",
      "state": {}
     },
     "f9cd1ca247014bc4bfaba2980c7135d7": {
      "model_module": "@jupyter-widgets/controls",
      "model_module_version": "1.5.0",
      "model_name": "DescriptionStyleModel",
      "state": {
       "description_width": ""
      }
     },
     "fa1bbd3bdc8049c69e2bf4ba6e237511": {
      "model_module": "@jupyter-widgets/controls",
      "model_module_version": "1.5.0",
      "model_name": "HTMLModel",
      "state": {
       "layout": "IPY_MODEL_1302e4b906264b1ca287377f45e954a3",
       "style": "IPY_MODEL_89e0b308edaf49b7a318b58290255fc0",
       "value": "100% 4675/4675 [00:08&lt;00:00, 549.77it/s]"
      }
     },
     "fa2dc5584db847f0b11e50b64f472d21": {
      "model_module": "@jupyter-widgets/controls",
      "model_module_version": "1.5.0",
      "model_name": "ProgressStyleModel",
      "state": {
       "description_width": ""
      }
     }
    },
    "version_major": 2,
    "version_minor": 0
   }
  }
 },
 "nbformat": 4,
 "nbformat_minor": 4
}
